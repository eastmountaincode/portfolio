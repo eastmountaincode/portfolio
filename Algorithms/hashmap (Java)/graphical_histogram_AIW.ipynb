{
 "cells": [
  {
   "cell_type": "code",
   "execution_count": 1,
   "id": "0aa2bd2e",
   "metadata": {},
   "outputs": [],
   "source": [
    "## NOTE: word count (n) is 2185"
   ]
  },
  {
   "cell_type": "code",
   "execution_count": 2,
   "id": "307d8c7b",
   "metadata": {},
   "outputs": [],
   "source": [
    "from matplotlib import pyplot as plt"
   ]
  },
  {
   "cell_type": "code",
   "execution_count": 3,
   "id": "d80470c5",
   "metadata": {},
   "outputs": [],
   "source": [
    "with open('src/driver/histogram30.txt') as f:\n",
    "    lines = f.readlines()\n",
    "lines30 = lines[0].split(\" \")\n",
    "lines30 = lines30[0:len(lines30)-1]\n",
    "lines30 = [int(x) for x in lines30]\n",
    "#lines30 = {i: int(lines30[i]) for i in range(len(lines30))}\n",
    "\n",
    "with open('src/driver/histogram300.txt') as f:\n",
    "    lines = f.readlines()\n",
    "lines300 = lines[0].split(\" \")\n",
    "lines300 = lines300[0:len(lines300)-1]\n",
    "lines300 = [int(x) for x in lines300]\n",
    "#lines300 = {i: int(lines300[i]) for i in range(len(lines300))}\n",
    "\n",
    "with open('src/driver/histogram1000.txt') as f:\n",
    "    lines = f.readlines()\n",
    "lines1000 = lines[0].split(\" \")\n",
    "lines1000 = lines1000[0:len(lines1000)-1]\n",
    "lines1000 = [int(x) for x in lines1000]\n",
    "#lines1000 = {i: int(lines1000[i]) for i in range(len(lines1000))}"
   ]
  },
  {
   "cell_type": "code",
   "execution_count": 4,
   "id": "deee85ea",
   "metadata": {},
   "outputs": [
    {
     "data": {
      "text/plain": [
       "300"
      ]
     },
     "execution_count": 4,
     "metadata": {},
     "output_type": "execute_result"
    }
   ],
   "source": [
    "len(lines300)"
   ]
  },
  {
   "cell_type": "code",
   "execution_count": 5,
   "id": "598f1e79",
   "metadata": {
    "scrolled": true
   },
   "outputs": [
    {
     "data": {
      "text/plain": [
       "1000"
      ]
     },
     "execution_count": 5,
     "metadata": {},
     "output_type": "execute_result"
    }
   ],
   "source": [
    "len(lines1000)"
   ]
  },
  {
   "cell_type": "code",
   "execution_count": 6,
   "id": "92a9c9a5",
   "metadata": {},
   "outputs": [],
   "source": [
    "from matplotlib import pyplot as plt"
   ]
  },
  {
   "cell_type": "code",
   "execution_count": 7,
   "id": "a7bd9a37",
   "metadata": {},
   "outputs": [],
   "source": [
    "######## FOR M = 30 ######## "
   ]
  },
  {
   "cell_type": "code",
   "execution_count": 8,
   "id": "04f569a2",
   "metadata": {},
   "outputs": [
    {
     "name": "stdout",
     "output_type": "stream",
     "text": [
      "Mean is  20.333333333333332  Variance is  21.688888888888883\n",
      "Alpha is  72.83333333333333\n"
     ]
    }
   ],
   "source": [
    "## MEAN\n",
    "mean = sum(list(lines30)) / 30\n",
    "\n",
    "## VARIANCE\n",
    "variance = sum((i - mean) ** 2 for i in list(lines30)) / len(list(lines30))\n",
    "\n",
    "print(\"Mean is \", mean, \" Variance is \", variance)\n",
    "print(\"Alpha is \", 2185/30)"
   ]
  },
  {
   "cell_type": "code",
   "execution_count": 9,
   "id": "23b919bc",
   "metadata": {
    "scrolled": false
   },
   "outputs": [
    {
     "data": {
      "text/plain": [
       "(array([4., 4., 3., 2., 6., 4., 0., 4., 1., 2.]),\n",
       " array([13. , 14.7, 16.4, 18.1, 19.8, 21.5, 23.2, 24.9, 26.6, 28.3, 30. ]),\n",
       " <BarContainer object of 10 artists>)"
      ]
     },
     "execution_count": 9,
     "metadata": {},
     "output_type": "execute_result"
    },
    {
     "data": {
      "image/png": "[encoded data removed]",
      "text/plain": [
       "<Figure size 800x640 with 1 Axes>"
      ]
     },
     "metadata": {
      "needs_background": "light"
     },
     "output_type": "display_data"
    }
   ],
   "source": [
    "plt.figure(figsize=(10, 8), dpi=80)\n",
    "plt.hist(lines30)"
   ]
  },
  {
   "cell_type": "code",
   "execution_count": 10,
   "id": "552f1c20",
   "metadata": {},
   "outputs": [],
   "source": [
    "######## FOR M = 300 ######## "
   ]
  },
  {
   "cell_type": "code",
   "execution_count": 11,
   "id": "b87acae9",
   "metadata": {},
   "outputs": [
    {
     "name": "stdout",
     "output_type": "stream",
     "text": [
      "Mean is  2.033333333333333  Variance is  2.2188888888888916\n",
      "Alpha is  7.283333333333333\n"
     ]
    }
   ],
   "source": [
    "## MEAN\n",
    "mean = sum(list(lines300)) / 300\n",
    "\n",
    "## VARIANCE\n",
    "variance = sum((i - mean) ** 2 for i in list(lines300)) / len(list(lines300))\n",
    "\n",
    "print(\"Mean is \", mean, \" Variance is \", variance)\n",
    "print(\"Alpha is \", 2185/300)"
   ]
  },
  {
   "cell_type": "code",
   "execution_count": 12,
   "id": "d1e40025",
   "metadata": {},
   "outputs": [
    {
     "data": {
      "text/plain": [
       "(array([43., 77., 81., 55.,  0., 27.,  8.,  6.,  2.,  1.]),\n",
       " array([0. , 0.8, 1.6, 2.4, 3.2, 4. , 4.8, 5.6, 6.4, 7.2, 8. ]),\n",
       " <BarContainer object of 10 artists>)"
      ]
     },
     "execution_count": 12,
     "metadata": {},
     "output_type": "execute_result"
    },
    {
     "data": {
      "image/png": "[encoded data removed]",
      "text/plain": [
       "<Figure size 800x640 with 1 Axes>"
      ]
     },
     "metadata": {
      "needs_background": "light"
     },
     "output_type": "display_data"
    }
   ],
   "source": [
    "plt.figure(figsize=(10, 8), dpi=80)\n",
    "plt.hist(lines300)"
   ]
  },
  {
   "cell_type": "code",
   "execution_count": 13,
   "id": "04b1bae9",
   "metadata": {},
   "outputs": [],
   "source": [
    "######## FOR M = 1000 ######## "
   ]
  },
  {
   "cell_type": "code",
   "execution_count": 14,
   "id": "6848208d",
   "metadata": {},
   "outputs": [
    {
     "name": "stdout",
     "output_type": "stream",
     "text": [
      "Mean is  0.61  Variance is  0.7419000000000087\n",
      "Alpha is  2.185\n"
     ]
    }
   ],
   "source": [
    "## MEAN\n",
    "mean = sum(list(lines1000)) / 1000\n",
    "\n",
    "## VARIANCE\n",
    "variance = sum((i - mean) ** 2 for i in list(lines1000)) / len(list(lines1000))\n",
    "\n",
    "print(\"Mean is \", mean, \" Variance is \", variance)\n",
    "print(\"Alpha is \", 2185/1000)"
   ]
  },
  {
   "cell_type": "code",
   "execution_count": 15,
   "id": "a72d1142",
   "metadata": {},
   "outputs": [
    {
     "data": {
      "text/plain": [
       "(array([575.,   0., 293.,   0.,  90.,   0.,  34.,   0.,   5.,   3.]),\n",
       " array([0. , 0.5, 1. , 1.5, 2. , 2.5, 3. , 3.5, 4. , 4.5, 5. ]),\n",
       " <BarContainer object of 10 artists>)"
      ]
     },
     "execution_count": 15,
     "metadata": {},
     "output_type": "execute_result"
    },
    {
     "data": {
      "image/png": "[encoded data removed]",
      "text/plain": [
       "<Figure size 432x288 with 1 Axes>"
      ]
     },
     "metadata": {
      "needs_background": "light"
     },
     "output_type": "display_data"
    }
   ],
   "source": [
    "plt.hist(lines1000)"
   ]
  },
  {
   "cell_type": "code",
   "execution_count": null,
   "id": "0306c572",
   "metadata": {},
   "outputs": [],
   "source": []
  },
  {
   "cell_type": "code",
   "execution_count": null,
   "id": "5f1e4350",
   "metadata": {},
   "outputs": [],
   "source": []
  }
 ],
 "metadata": {
  "kernelspec": {
   "display_name": "Python 3 (ipykernel)",
   "language": "python",
   "name": "python3"
  },
  "language_info": {
   "codemirror_mode": {
    "name": "ipython",
    "version": 3
   },
   "file_extension": ".py",
   "mimetype": "text/x-python",
   "name": "python",
   "nbconvert_exporter": "python",
   "pygments_lexer": "ipython3",
   "version": "3.10.4"
  }
 },
 "nbformat": 4,
 "nbformat_minor": 5
}
