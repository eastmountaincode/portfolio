{
  "nbformat": 4,
  "nbformat_minor": 0,
  "metadata": {
    "colab": {
      "name": "ohioPopulationListTutorial.ipynb",
      "provenance": [],
      "collapsed_sections": [],
      "authorship_tag": "ABX9TyMAbZ7z5Pqma5gFUo94uYiZ",
      "include_colab_link": true
    },
    "kernelspec": {
      "name": "python3",
      "display_name": "Python 3"
    },
    "language_info": {
      "name": "python"
    }
  },
  "cells": [
    {
      "cell_type": "markdown",
      "metadata": {
        "id": "view-in-github",
        "colab_type": "text"
      },
      "source": [
        "<a href=\"https://colab.research.google.com/github/eastmountaincode/DSC/blob/main/ohioPopulationListTutorial.ipynb\" target=\"_parent\"><img src=\"https://colab.research.google.com/assets/colab-badge.svg\" alt=\"Open In Colab\"/></a>"
      ]
    },
    {
      "cell_type": "markdown",
      "metadata": {
        "id": "nfkjKkXShM5n"
      },
      "source": [
        "This code is documentation of the process used to get the list of cities at this link: https://www.ohio-demographics.com/cities_by_population into a useable format for the Emergency Room/Urgent Care review data project."
      ]
    },
    {
      "cell_type": "markdown",
      "metadata": {
        "id": "3XNMWLyghkAU"
      },
      "source": [
        "## Initialize"
      ]
    },
    {
      "cell_type": "markdown",
      "metadata": {
        "id": "1ghkrcE0hqcY"
      },
      "source": [
        "I copied the data on the ohio-demographics.com website into a spreadsheet and bounced it to a CSV."
      ]
    },
    {
      "cell_type": "code",
      "metadata": {
        "colab": {
          "base_uri": "https://localhost:8080/"
        },
        "id": "xCSsNscMFZV2",
        "outputId": "c8743712-3f0f-4177-9794-960788fc0597"
      },
      "source": [
        "import pandas as pd\n",
        "from google.colab import drive\n",
        "drive.mount('/content/drive')\n",
        "\n",
        "df = pd.read_csv(\"/content/drive/My Drive/Colab Notebooks/ERURproject/ohiobypop.csv\")"
      ],
      "execution_count": 1,
      "outputs": [
        {
          "output_type": "stream",
          "text": [
            "Mounted at /content/drive\n"
          ],
          "name": "stdout"
        }
      ]
    },
    {
      "cell_type": "markdown",
      "metadata": {
        "id": "FOmBsntKjKvt"
      },
      "source": [
        "## Problems"
      ]
    },
    {
      "cell_type": "markdown",
      "metadata": {
        "id": "jCx-fqJIh4o9"
      },
      "source": [
        "The data has several problems (that we can fix). "
      ]
    },
    {
      "cell_type": "markdown",
      "metadata": {
        "id": "aMLuI4lGiAfA"
      },
      "source": [
        "1. Sometimes, a single column contains two cities. The rank column contains the word \"TIE\", and city column contains two cities separated by the word \"and\", and the population is the same for both cities."
      ]
    },
    {
      "cell_type": "code",
      "metadata": {
        "colab": {
          "base_uri": "https://localhost:8080/"
        },
        "id": "GfihcpFRbEDn",
        "outputId": "a4c17738-0782-4fab-f355-154aa33d060d"
      },
      "source": [
        "df.loc[125]"
      ],
      "execution_count": 2,
      "outputs": [
        {
          "output_type": "execute_result",
          "data": {
            "text/plain": [
              "Rank                           126 TIE \n",
              "City          Sharonville and Willowick\n",
              "Population                       14,133\n",
              "Name: 125, dtype: object"
            ]
          },
          "metadata": {
            "tags": []
          },
          "execution_count": 2
        }
      ]
    },
    {
      "cell_type": "markdown",
      "metadata": {
        "id": "HWGiZ9p2ioT0"
      },
      "source": [
        "2. Sometimes, a single column contains THREE OR FOUR cities!"
      ]
    },
    {
      "cell_type": "code",
      "metadata": {
        "colab": {
          "base_uri": "https://localhost:8080/"
        },
        "id": "xL_XSTMIiUWl",
        "outputId": "dc429e32-0dbc-4acd-943f-1964110f7e5d"
      },
      "source": [
        "df.loc[878]"
      ],
      "execution_count": 3,
      "outputs": [
        {
          "output_type": "execute_result",
          "data": {
            "text/plain": [
              "Rank                                      879 TIE \n",
              "City          Pitsburg, New Marshfield, and Bascom\n",
              "Population                                     330\n",
              "Name: 878, dtype: object"
            ]
          },
          "metadata": {
            "tags": []
          },
          "execution_count": 3
        }
      ]
    },
    {
      "cell_type": "markdown",
      "metadata": {
        "id": "XSG5bX-siwCO"
      },
      "source": [
        "3. Sometimes, a city had two names, one of them being in parentheses."
      ]
    },
    {
      "cell_type": "code",
      "metadata": {
        "colab": {
          "base_uri": "https://localhost:8080/"
        },
        "id": "Oj6VWtWVisuQ",
        "outputId": "e0b448a6-4a5b-43ac-bb9a-2e6c71217926"
      },
      "source": [
        "df.loc[883]"
      ],
      "execution_count": 4,
      "outputs": [
        {
          "output_type": "execute_result",
          "data": {
            "text/plain": [
              "Rank                        884\n",
              "City          Hartford (Croton)\n",
              "Population                  323\n",
              "Name: 883, dtype: object"
            ]
          },
          "metadata": {
            "tags": []
          },
          "execution_count": 4
        }
      ]
    },
    {
      "cell_type": "markdown",
      "metadata": {
        "id": "nzWYIi-cjPAH"
      },
      "source": [
        "## The fix"
      ]
    },
    {
      "cell_type": "code",
      "metadata": {
        "id": "lYWP5NgkHit0"
      },
      "source": [
        "tempdf = pd.DataFrame()\n",
        "\n",
        "for i in range(len(df)):\n",
        "  #For these cases where there are 2, 3, or 4 cities in one row\n",
        "  if \"TIE\" in df.loc[i, \"Rank\"]:\n",
        "    manyCities = df.loc[i, \"City\"]\n",
        "    \n",
        "    #IF THERE ARE THREE OR FOUR CITIES IN A TIE\n",
        "    #If there are more than two cities in a row, the city column will contain a comma\n",
        "    if \",\" in manyCities:\n",
        "      #Split the city names by commas\n",
        "      allThreeorFour = manyCities.split(\", \")\n",
        "      #On the last city name, remove the word \"and\"\n",
        "      allThreeorFour[-1] = allThreeorFour[-1].strip('and ')\n",
        "      \n",
        "      #SPECIAL ANNOYING CASE\n",
        "      #Here we have a problem that had to be handled manually\n",
        "      #Whenever I came across a city with multiple names, I googled both names and determined which was more meaningful by looking at the results\n",
        "      if 'Gann' in allThreeorFour[-1]:\n",
        "        allThreeorFour[-1] = allThreeorFour[-1].strip('(Brinkhaven)')\n",
        "        allThreeorFour[-1] = allThreeorFour[-1].strip(' ')\n",
        "\n",
        "      for x in allThreeorFour:\n",
        "        rankString = df.loc[i, \"Rank\"]\n",
        "        rankString = rankString.replace(\"TIE\", \"\")\n",
        "        rankString = rankString.replace(\" \", \"\")\n",
        "\n",
        "        lostCity = x\n",
        "\n",
        "        cityPopulation = df.loc[i, \"Population\"]\n",
        "\n",
        "        newRow = {'Rank': rankString, 'City': lostCity, 'Population': cityPopulation}\n",
        "        tempdf = tempdf.append(newRow, ignore_index = True)\n",
        "         \n",
        "    #IF THERE ARE ONLY TWO CITIES IN A TIE\n",
        "    else:\n",
        "      twoCities = manyCities.split(' and ')\n",
        "\n",
        "      # print(twoCities)\n",
        "      \n",
        "      #SPECIAL ANNOYING CASE\n",
        "      #Dual name problem handled manually\n",
        "      if 'Rome (Stout)' in twoCities:\n",
        "        twoCities[0] = twoCities[0].strip('Rome (')\n",
        "        twoCities[0] = twoCities[0].strip(')')\n",
        "      \n",
        "      for x in twoCities:\n",
        "        rankString = df.loc[i, \"Rank\"]\n",
        "        rankString = rankString.replace(\"TIE\", \"\")\n",
        "        rankString = rankString.replace(\" \", \"\")\n",
        "\n",
        "        lostCity = x\n",
        "\n",
        "        cityPopulation = df.loc[i, \"Population\"]\n",
        "\n",
        "        newRow = {'Rank': rankString, 'City': lostCity, 'Population': cityPopulation}\n",
        "        tempdf = tempdf.append(newRow, ignore_index = True)\n",
        "\n",
        "  #IF ONLY ONE CITY\n",
        "  else:\n",
        "    #SPECIAL ANNOYING CASE\n",
        "    #Dual name problem handled manually\n",
        "    if df.loc[i, \"City\"] == \"Hartford (Croton)\":\n",
        "      rankString = df.loc[i, \"Rank\"]\n",
        "      cityName = \"Hartford\"\n",
        "      cityPopulation = df.loc[i, \"Population\"]\n",
        "      newRow = {'Rank': rankString, 'City': cityName, 'Population': cityPopulation}\n",
        "      tempdf = tempdf.append(newRow, ignore_index = True)\n",
        "\n",
        "    #Dual name problem handled manually\n",
        "    elif df.loc[i, \"City\"] == \"Centerville (Thurman)\":\n",
        "      rankString = df.loc[i, \"Rank\"]\n",
        "      cityName = \"Hartford\"\n",
        "      cityPopulation = df.loc[i, \"Population\"]\n",
        "      newRow = {'Rank': rankString, 'City': cityName, 'Population': cityPopulation}\n",
        "      tempdf = tempdf.append(newRow, ignore_index = True)\n",
        "\n",
        "    else:\n",
        "      rankString = df.loc[i, \"Rank\"]\n",
        "      cityName = df.loc[i, \"City\"]\n",
        "      cityPopulation = df.loc[i, \"Population\"]\n",
        "      newRow = {'Rank': rankString, 'City': cityName, 'Population': cityPopulation}\n",
        "      tempdf = tempdf.append(newRow, ignore_index = True)\n",
        "        "
      ],
      "execution_count": 5,
      "outputs": []
    },
    {
      "cell_type": "markdown",
      "metadata": {
        "id": "9JyiOTf-ku5I"
      },
      "source": [
        "And that's it! Now we have a dataframe that can be iterated over without any problem."
      ]
    },
    {
      "cell_type": "code",
      "metadata": {
        "colab": {
          "base_uri": "https://localhost:8080/",
          "height": 424
        },
        "id": "kXTrf8gMZQ9i",
        "outputId": "e0fcf817-6f8b-4518-f1dc-968607d480a3"
      },
      "source": [
        "tempdf"
      ],
      "execution_count": 6,
      "outputs": [
        {
          "output_type": "execute_result",
          "data": {
            "text/html": [
              "<div>\n",
              "<style scoped>\n",
              "    .dataframe tbody tr th:only-of-type {\n",
              "        vertical-align: middle;\n",
              "    }\n",
              "\n",
              "    .dataframe tbody tr th {\n",
              "        vertical-align: top;\n",
              "    }\n",
              "\n",
              "    .dataframe thead th {\n",
              "        text-align: right;\n",
              "    }\n",
              "</style>\n",
              "<table border=\"1\" class=\"dataframe\">\n",
              "  <thead>\n",
              "    <tr style=\"text-align: right;\">\n",
              "      <th></th>\n",
              "      <th>City</th>\n",
              "      <th>Population</th>\n",
              "      <th>Rank</th>\n",
              "    </tr>\n",
              "  </thead>\n",
              "  <tbody>\n",
              "    <tr>\n",
              "      <th>0</th>\n",
              "      <td>Columbus</td>\n",
              "      <td>878,553</td>\n",
              "      <td>1</td>\n",
              "    </tr>\n",
              "    <tr>\n",
              "      <th>1</th>\n",
              "      <td>Cleveland</td>\n",
              "      <td>385,282</td>\n",
              "      <td>2</td>\n",
              "    </tr>\n",
              "    <tr>\n",
              "      <th>2</th>\n",
              "      <td>Cincinnati</td>\n",
              "      <td>301,394</td>\n",
              "      <td>3</td>\n",
              "    </tr>\n",
              "    <tr>\n",
              "      <th>3</th>\n",
              "      <td>Toledo</td>\n",
              "      <td>276,614</td>\n",
              "      <td>4</td>\n",
              "    </tr>\n",
              "    <tr>\n",
              "      <th>4</th>\n",
              "      <td>Akron</td>\n",
              "      <td>198,051</td>\n",
              "      <td>5</td>\n",
              "    </tr>\n",
              "    <tr>\n",
              "      <th>...</th>\n",
              "      <td>...</td>\n",
              "      <td>...</td>\n",
              "      <td>...</td>\n",
              "    </tr>\n",
              "    <tr>\n",
              "      <th>1209</th>\n",
              "      <td>Otway</td>\n",
              "      <td>32</td>\n",
              "      <td>1,032</td>\n",
              "    </tr>\n",
              "    <tr>\n",
              "      <th>1210</th>\n",
              "      <td>Kilbourne</td>\n",
              "      <td>19</td>\n",
              "      <td>1,033</td>\n",
              "    </tr>\n",
              "    <tr>\n",
              "      <th>1211</th>\n",
              "      <td>Holiday City</td>\n",
              "      <td>17</td>\n",
              "      <td>1,034</td>\n",
              "    </tr>\n",
              "    <tr>\n",
              "      <th>1212</th>\n",
              "      <td>Beulah Beach</td>\n",
              "      <td>11</td>\n",
              "      <td>1,035</td>\n",
              "    </tr>\n",
              "    <tr>\n",
              "      <th>1213</th>\n",
              "      <td>Rendville</td>\n",
              "      <td>10</td>\n",
              "      <td>1,036</td>\n",
              "    </tr>\n",
              "  </tbody>\n",
              "</table>\n",
              "<p>1214 rows × 3 columns</p>\n",
              "</div>"
            ],
            "text/plain": [
              "              City Population   Rank\n",
              "0         Columbus    878,553      1\n",
              "1        Cleveland    385,282      2\n",
              "2       Cincinnati    301,394      3\n",
              "3           Toledo    276,614      4\n",
              "4            Akron    198,051      5\n",
              "...            ...        ...    ...\n",
              "1209         Otway         32  1,032\n",
              "1210     Kilbourne         19  1,033\n",
              "1211  Holiday City         17  1,034\n",
              "1212  Beulah Beach         11  1,035\n",
              "1213     Rendville         10  1,036\n",
              "\n",
              "[1214 rows x 3 columns]"
            ]
          },
          "metadata": {
            "tags": []
          },
          "execution_count": 6
        }
      ]
    },
    {
      "cell_type": "code",
      "metadata": {
        "colab": {
          "base_uri": "https://localhost:8080/",
          "height": 17
        },
        "id": "_fR25XqWd-E_",
        "outputId": "34a4fe54-f0f0-41dd-8e86-8c6f8443971a"
      },
      "source": [
        "from google.colab import files\n",
        "tempdf.to_csv('ohioPopTutorial.csv')\n",
        "files.download('ohioPopTutorial.csv')"
      ],
      "execution_count": null,
      "outputs": [
        {
          "output_type": "display_data",
          "data": {
            "application/javascript": [
              "\n",
              "    async function download(id, filename, size) {\n",
              "      if (!google.colab.kernel.accessAllowed) {\n",
              "        return;\n",
              "      }\n",
              "      const div = document.createElement('div');\n",
              "      const label = document.createElement('label');\n",
              "      label.textContent = `Downloading \"${filename}\": `;\n",
              "      div.appendChild(label);\n",
              "      const progress = document.createElement('progress');\n",
              "      progress.max = size;\n",
              "      div.appendChild(progress);\n",
              "      document.body.appendChild(div);\n",
              "\n",
              "      const buffers = [];\n",
              "      let downloaded = 0;\n",
              "\n",
              "      const channel = await google.colab.kernel.comms.open(id);\n",
              "      // Send a message to notify the kernel that we're ready.\n",
              "      channel.send({})\n",
              "\n",
              "      for await (const message of channel.messages) {\n",
              "        // Send a message to notify the kernel that we're ready.\n",
              "        channel.send({})\n",
              "        if (message.buffers) {\n",
              "          for (const buffer of message.buffers) {\n",
              "            buffers.push(buffer);\n",
              "            downloaded += buffer.byteLength;\n",
              "            progress.value = downloaded;\n",
              "          }\n",
              "        }\n",
              "      }\n",
              "      const blob = new Blob(buffers, {type: 'application/binary'});\n",
              "      const a = document.createElement('a');\n",
              "      a.href = window.URL.createObjectURL(blob);\n",
              "      a.download = filename;\n",
              "      div.appendChild(a);\n",
              "      a.click();\n",
              "      div.remove();\n",
              "    }\n",
              "  "
            ],
            "text/plain": [
              "<IPython.core.display.Javascript object>"
            ]
          },
          "metadata": {
            "tags": []
          }
        },
        {
          "output_type": "display_data",
          "data": {
            "application/javascript": [
              "download(\"download_47a61327-172c-45dd-9a26-8b11068e57a6\", \"ohioPopTutorial.csv\", 30459)"
            ],
            "text/plain": [
              "<IPython.core.display.Javascript object>"
            ]
          },
          "metadata": {
            "tags": []
          }
        }
      ]
    }
  ]
}